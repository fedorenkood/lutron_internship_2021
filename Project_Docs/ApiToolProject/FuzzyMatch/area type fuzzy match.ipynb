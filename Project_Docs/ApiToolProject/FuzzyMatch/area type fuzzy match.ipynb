{
 "cells": [
  {
   "cell_type": "code",
   "execution_count": 5,
   "metadata": {},
   "outputs": [],
   "source": [
    "%matplotlib notebook\n",
    "import pandas as pd\n",
    "import numpy as np\n",
    "import matplotlib.pyplot as plt\n",
    "import pickle\n",
    "\n",
    "import re\n",
    "import nltk"
   ]
  },
  {
   "cell_type": "code",
   "execution_count": 6,
   "metadata": {},
   "outputs": [
    {
     "name": "stdout",
     "output_type": "stream",
     "text": [
      "dictionary size: 1544 keywords\n"
     ]
    }
   ],
   "source": [
    "# load keyword dictionary\n",
    "\n",
    "filename='keyword_dict_tf_30p.pickle'\n",
    "with open(filename, 'rb') as handle:\n",
    "    keyword_dict = pickle.load(handle)\n",
    "print('dictionary size: %d keywords' % len(keyword_dict))"
   ]
  },
  {
   "cell_type": "code",
   "execution_count": 7,
   "metadata": {},
   "outputs": [],
   "source": [
    "# intialize fuzzyset\n",
    "\n",
    "import fuzzyset\n",
    "\n",
    "# default of 'relative similarity cutoff' is 1.0 which will always return top match. lower it to allow multiple matches\n",
    "fs = fuzzyset.FuzzySet(rel_sim_cutoff=.8)  \n",
    "for w, cat in keyword_dict.items():\n",
    "    fs.add(w)"
   ]
  },
  {
   "cell_type": "code",
   "execution_count": 8,
   "metadata": {},
   "outputs": [
    {
     "name": "stdout",
     "output_type": "stream",
     "text": [
      "my livingroom bath :\n",
      "     [mudroom bath, PowderRoom, 0.56]\n",
      "     [room bath, Bathroom, 0.50]\n",
      "     [bedroom bath, Bathroom, 0.50]\n",
      "Kids Pool Porch :\n",
      "     [nook porch, Nook, 0.53]\n",
      "     [east porch, Porch, 0.47]\n",
      "     [front porch, Porch, 0.47]\n",
      "Stairs :\n",
      "     [stairs, Hallway/Stairs, 1.00]\n",
      "     [stair, Hallway/Stairs, 0.83]\n",
      "Kitchen :\n",
      "     [kitchen, Kitchen, 1.00]\n",
      "Basement Stairs :\n",
      "     [basement stairs, Hallway/Stairs, 1.00]\n",
      "     [basement stair, Hallway/Stairs, 0.93]\n",
      "Master Closet 228 :\n",
      "     [master closet, Closet/Storage, 0.76]\n",
      "     [water closet, Closet/Storage, 0.65]\n",
      "Master Laundry 224 :\n",
      "     [master laundry, LaundryRoom, 0.78]\n",
      "Lower Gallery :\n",
      "     [master gallery, Art Room/Gallery, 0.71]\n",
      "     [lower laundry, LaundryRoom, 0.69]\n",
      "     [fl gallery, Art Room/Gallery, 0.62]\n"
     ]
    }
   ],
   "source": [
    "# find top-k categories for area name\n",
    "\n",
    "k=3\n",
    "area_names = ['my livingroom bath', 'Kids Pool Porch', 'Stairs', 'Kitchen', 'Basement Stairs', 'Master Closet 228', 'Master Laundry 224', 'Lower Gallery']\n",
    "for area_name in area_names:\n",
    "    res = fs.get(area_name)\n",
    "#     print('number of matches found:', len(res))\n",
    "    if res!=None:\n",
    "        print(area_name, ':')\n",
    "        for i in range(min(k, len(res))):\n",
    "            score, match_keyword = res[i]\n",
    "            area_cat_pred = keyword_dict[match_keyword]\n",
    "            print('     [%s, %s, %3.2f]' % (match_keyword, area_cat_pred, score))\n",
    "    else:\n",
    "        print('No match found.')"
   ]
  },
  {
   "cell_type": "code",
   "execution_count": null,
   "metadata": {},
   "outputs": [],
   "source": []
  },
  {
   "cell_type": "code",
   "execution_count": null,
   "metadata": {},
   "outputs": [],
   "source": []
  }
 ],
 "metadata": {
  "kernelspec": {
   "display_name": "Python 3 (ipykernel)",
   "language": "python",
   "name": "python3"
  },
  "language_info": {
   "codemirror_mode": {
    "name": "ipython",
    "version": 3
   },
   "file_extension": ".py",
   "mimetype": "text/x-python",
   "name": "python",
   "nbconvert_exporter": "python",
   "pygments_lexer": "ipython3",
   "version": "3.9.2"
  }
 },
 "nbformat": 4,
 "nbformat_minor": 2
}
